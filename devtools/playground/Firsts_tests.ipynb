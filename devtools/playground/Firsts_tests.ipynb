{
 "cells": [
  {
   "cell_type": "code",
   "execution_count": 1,
   "id": "5ea62048-93b8-4ff3-a39e-6dfb77e8c205",
   "metadata": {},
   "outputs": [],
   "source": [
    "import openpharmacophore as oph"
   ]
  },
  {
   "cell_type": "code",
   "execution_count": 2,
   "id": "93afc0ca-d604-43b6-bd81-f59c3bf75a27",
   "metadata": {},
   "outputs": [],
   "source": [
    "aa = oph._puw.quantity([0,0,0],'nm')"
   ]
  },
  {
   "cell_type": "code",
   "execution_count": 3,
   "id": "f80a65fc-06aa-401b-91e0-f0ceae61cfea",
   "metadata": {},
   "outputs": [
    {
     "ename": "UnboundLocalError",
     "evalue": "local variable 'aux_argument_type' referenced before assignment",
     "output_type": "error",
     "traceback": [
      "\u001b[0;31m---------------------------------------------------------------------------\u001b[0m",
      "\u001b[0;31mUnboundLocalError\u001b[0m                         Traceback (most recent call last)",
      "\u001b[0;32m<ipython-input-3-cd70c2889df3>\u001b[0m in \u001b[0;36m<module>\u001b[0;34m\u001b[0m\n\u001b[0;32m----> 1\u001b[0;31m \u001b[0moph\u001b[0m\u001b[0;34m.\u001b[0m\u001b[0mpharmacophoric_elements\u001b[0m\u001b[0;34m.\u001b[0m\u001b[0mPositiveChargePoint\u001b[0m\u001b[0;34m(\u001b[0m\u001b[0maa\u001b[0m\u001b[0;34m)\u001b[0m\u001b[0;34m\u001b[0m\u001b[0;34m\u001b[0m\u001b[0m\n\u001b[0m",
      "\u001b[0;32m~/Projects/OpenPharmacophore/openpharmacophore/pharmacophoric_elements/positive_charge.py\u001b[0m in \u001b[0;36m__init__\u001b[0;34m(self, position)\u001b[0m\n\u001b[1;32m      7\u001b[0m \u001b[0;34m\u001b[0m\u001b[0m\n\u001b[1;32m      8\u001b[0m         \u001b[0mPositiveCharge\u001b[0m\u001b[0;34m.\u001b[0m\u001b[0m__init__\u001b[0m\u001b[0;34m(\u001b[0m\u001b[0mself\u001b[0m\u001b[0;34m)\u001b[0m\u001b[0;34m\u001b[0m\u001b[0;34m\u001b[0m\u001b[0m\n\u001b[0;32m----> 9\u001b[0;31m         \u001b[0mPoint\u001b[0m\u001b[0;34m.\u001b[0m\u001b[0m__init__\u001b[0m\u001b[0;34m(\u001b[0m\u001b[0mself\u001b[0m\u001b[0;34m,\u001b[0m \u001b[0mposition\u001b[0m\u001b[0;34m)\u001b[0m\u001b[0;34m\u001b[0m\u001b[0;34m\u001b[0m\u001b[0m\n\u001b[0m\u001b[1;32m     10\u001b[0m \u001b[0;34m\u001b[0m\u001b[0m\n\u001b[1;32m     11\u001b[0m \u001b[0;32mclass\u001b[0m \u001b[0mPositiveChargeSphere\u001b[0m\u001b[0;34m(\u001b[0m\u001b[0mPositiveCharge\u001b[0m\u001b[0;34m,\u001b[0m \u001b[0mSphere\u001b[0m\u001b[0;34m)\u001b[0m\u001b[0;34m:\u001b[0m\u001b[0;34m\u001b[0m\u001b[0;34m\u001b[0m\u001b[0m\n",
      "\u001b[0;32m~/Projects/OpenPharmacophore/openpharmacophore/pharmacophoric_shapes/point.py\u001b[0m in \u001b[0;36m__init__\u001b[0;34m(self, position)\u001b[0m\n\u001b[1;32m     30\u001b[0m         \u001b[0;31m#: The arguments checking should be included with decorators in the future\u001b[0m\u001b[0;34m\u001b[0m\u001b[0;34m\u001b[0m\u001b[0;34m\u001b[0m\u001b[0m\n\u001b[1;32m     31\u001b[0m         \u001b[0;31m#: InputArgumentError shouldn't need arguments\u001b[0m\u001b[0;34m\u001b[0m\u001b[0;34m\u001b[0m\u001b[0;34m\u001b[0m\u001b[0m\n\u001b[0;32m---> 32\u001b[0;31m         \u001b[0;32mif\u001b[0m \u001b[0;32mnot\u001b[0m \u001b[0mcheck_input_argument\u001b[0m\u001b[0;34m(\u001b[0m\u001b[0mposition\u001b[0m\u001b[0;34m,\u001b[0m \u001b[0;34m'quantity'\u001b[0m\u001b[0;34m,\u001b[0m \u001b[0mdimensionality\u001b[0m\u001b[0;34m=\u001b[0m\u001b[0;34m[\u001b[0m\u001b[0;34m'L'\u001b[0m\u001b[0;34m]\u001b[0m\u001b[0;34m,\u001b[0m \u001b[0mvalue_type\u001b[0m\u001b[0;34m=\u001b[0m\u001b[0;34m[\u001b[0m\u001b[0mlist\u001b[0m\u001b[0;34m,\u001b[0m \u001b[0mtuple\u001b[0m\u001b[0;34m,\u001b[0m \u001b[0mnp\u001b[0m\u001b[0;34m.\u001b[0m\u001b[0mndarray\u001b[0m\u001b[0;34m]\u001b[0m\u001b[0;34m)\u001b[0m\u001b[0;34m:\u001b[0m\u001b[0;34m\u001b[0m\u001b[0;34m\u001b[0m\u001b[0m\n\u001b[0m\u001b[1;32m     33\u001b[0m             \u001b[0;32mraise\u001b[0m \u001b[0mInputArgumentError\u001b[0m\u001b[0;34m(\u001b[0m\u001b[0;34m'position'\u001b[0m\u001b[0;34m,\u001b[0m \u001b[0;34m'Point'\u001b[0m\u001b[0;34m,\u001b[0m \u001b[0m__documentation_web__\u001b[0m\u001b[0;34m)\u001b[0m\u001b[0;34m\u001b[0m\u001b[0;34m\u001b[0m\u001b[0m\n\u001b[1;32m     34\u001b[0m \u001b[0;34m\u001b[0m\u001b[0m\n",
      "\u001b[0;32m~/Myopt/miniconda3/envs/OpenPharmacophore/lib/python3.7/site-packages/uibcdf_stdlib/input_arguments.py\u001b[0m in \u001b[0;36mcheck_input_argument\u001b[0;34m(argument, argument_type, shape, dimensionality, value_type)\u001b[0m\n\u001b[1;32m     21\u001b[0m     \u001b[0;32melse\u001b[0m\u001b[0;34m:\u001b[0m\u001b[0;34m\u001b[0m\u001b[0;34m\u001b[0m\u001b[0m\n\u001b[1;32m     22\u001b[0m \u001b[0;34m\u001b[0m\u001b[0m\n\u001b[0;32m---> 23\u001b[0;31m         output = _check_single_input_argument(argument, aux_argument_type, shape=shape,\n\u001b[0m\u001b[1;32m     24\u001b[0m                 dimensionality=dimensionality, value_type=value_type)\n\u001b[1;32m     25\u001b[0m \u001b[0;34m\u001b[0m\u001b[0m\n",
      "\u001b[0;31mUnboundLocalError\u001b[0m: local variable 'aux_argument_type' referenced before assignment"
     ]
    }
   ],
   "source": [
    "oph.pharmacophoric_elements.PositiveChargePoint(aa)"
   ]
  },
  {
   "cell_type": "code",
   "execution_count": null,
   "id": "e755cd27-efeb-4729-8b2a-991b5ff3762a",
   "metadata": {},
   "outputs": [],
   "source": []
  }
 ],
 "metadata": {
  "kernelspec": {
   "display_name": "Python 3",
   "language": "python",
   "name": "python3"
  },
  "language_info": {
   "codemirror_mode": {
    "name": "ipython",
    "version": 3
   },
   "file_extension": ".py",
   "mimetype": "text/x-python",
   "name": "python",
   "nbconvert_exporter": "python",
   "pygments_lexer": "ipython3",
   "version": "3.7.10"
  }
 },
 "nbformat": 4,
 "nbformat_minor": 5
}
