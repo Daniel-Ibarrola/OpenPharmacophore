{
 "cells": [
  {
   "cell_type": "markdown",
   "id": "5604ceac-6f7b-45d8-a7ef-3fd917809695",
   "metadata": {},
   "source": [
    "# Hydrogen bonding in protein-ligand complexes\n",
    "\n",
    "In this notebook we explore hydrogen bonding between ligands and proteins "
   ]
  }
 ],
 "metadata": {
  "kernelspec": {
   "display_name": "Python 3 (ipykernel)",
   "language": "python",
   "name": "python3"
  },
  "language_info": {
   "codemirror_mode": {
    "name": "ipython",
    "version": 3
   },
   "file_extension": ".py",
   "mimetype": "text/x-python",
   "name": "python",
   "nbconvert_exporter": "python",
   "pygments_lexer": "ipython3",
   "version": "3.7.12"
  }
 },
 "nbformat": 4,
 "nbformat_minor": 5
}
