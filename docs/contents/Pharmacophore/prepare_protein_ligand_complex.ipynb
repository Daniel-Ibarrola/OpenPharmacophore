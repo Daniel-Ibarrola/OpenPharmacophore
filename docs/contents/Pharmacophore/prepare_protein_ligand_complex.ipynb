{
 "cells": [
  {
   "cell_type": "code",
   "execution_count": 1,
   "id": "9824bdf1-e8a6-42b0-b745-1ec28ca2c226",
   "metadata": {},
   "outputs": [
    {
     "data": {
      "application/vnd.jupyter.widget-view+json": {
       "model_id": "36cac3da4d114f22b7c33a456b1cf8ea",
       "version_major": 2,
       "version_minor": 0
      },
      "text/plain": []
     },
     "metadata": {},
     "output_type": "display_data"
    }
   ],
   "source": [
    "from openpharmacophore import PLComplex\n",
    "import openpharmacophore.data as data"
   ]
  },
  {
   "cell_type": "markdown",
   "id": "e68a6469-24d8-408a-9af3-4b0265c1dd70",
   "metadata": {},
   "source": [
    "# Protein-ligand complex preparation"
   ]
  },
  {
   "cell_type": "markdown",
   "id": "9543edfe-c8cc-423c-9b49-7a78ad7caf0a",
   "metadata": {},
   "source": [
    "We want to prepare the protein ligand complex of the pdb 1M7W to be ready for pharmacophore extraction. This complex contains\n",
    "lauric acid (id DAO, C12H24O2) as its ligand."
   ]
  },
  {
   "cell_type": "code",
   "execution_count": 2,
   "id": "456e2cfd-b118-44b3-a1d7-21a21a67ef10",
   "metadata": {},
   "outputs": [
    {
     "data": {
      "text/plain": [
       "['DAO:B']"
      ]
     },
     "execution_count": 2,
     "metadata": {},
     "output_type": "execute_result"
    }
   ],
   "source": [
    "pl = PLComplex(data.pdb[\"1m7w_A_chain.pdb\"])\n",
    "pl.ligand_ids"
   ]
  },
  {
   "cell_type": "markdown",
   "id": "69b50aff-d5b9-44b2-86d2-3997678fcf25",
   "metadata": {},
   "source": [
    "First we need to extract the ligand, so we can fix its bond orders and add hydrogens to it."
   ]
  },
  {
   "cell_type": "code",
   "execution_count": 3,
   "id": "c507fa61-78a3-4480-b4b3-0337a06a8038",
   "metadata": {},
   "outputs": [
    {
     "data": {
      "image/png": "[encoded data removed]",
      "text/plain": [
       "<rdkit.Chem.rdchem.Mol at 0x7fe90bd69d50>"
      ]
     },
     "execution_count": 3,
     "metadata": {},
     "output_type": "execute_result"
    }
   ],
   "source": [
    "pl.set_ligand(pl.ligand_ids[0])    \n",
    "pl.ligand_to_mol()\n",
    "pl.ligand"
   ]
  },
  {
   "cell_type": "markdown",
   "id": "63abc442-6684-48e5-968c-19e208140c24",
   "metadata": {},
   "source": [
    "After fixing ligand, it must have a double bond and hydrogens"
   ]
  },
  {
   "cell_type": "code",
   "execution_count": 4,
   "id": "4c2c4e6c-ddac-4cf0-b20d-8b55445da5a5",
   "metadata": {},
   "outputs": [
    {
     "data": {
      "image/png": "[encoded data removed]",
      "text/plain": [
       "<rdkit.Chem.rdchem.Mol at 0x7fe8a2c22df0>"
      ]
     },
     "execution_count": 4,
     "metadata": {},
     "output_type": "execute_result"
    }
   ],
   "source": [
    "pl.fix_ligand(smiles=\"CCCCCCCCCCCC(=O)O\")\n",
    "pl.ligand"
   ]
  },
  {
   "cell_type": "markdown",
   "id": "98a49a9a-62b1-46fe-89e7-ebe45dedfc6c",
   "metadata": {},
   "source": [
    "- We remove the unfixed ligand from the complex.\n",
    "- We add hydrogens to the receptor\n",
    "- Finally we concatenate the fixed ligand with the receptor"
   ]
  },
  {
   "cell_type": "code",
   "execution_count": 5,
   "id": "1e1a246d-f7a3-4e39-bc01-bbf65eba2f74",
   "metadata": {},
   "outputs": [
    {
     "name": "stderr",
     "output_type": "stream",
     "text": [
      "Warning: importing 'simtk.openmm' is deprecated.  Import 'openmm' instead.\n"
     ]
    }
   ],
   "source": [
    "pl.remove_ligand()\n",
    "pl.add_hydrogens()\n",
    "pl.add_fixed_ligand()"
   ]
  },
  {
   "cell_type": "code",
   "execution_count": 6,
   "id": "f34881fc-0700-4fc3-98f4-a29d1fd9467c",
   "metadata": {},
   "outputs": [
    {
     "data": {
      "application/vnd.jupyter.widget-view+json": {
       "model_id": "503686d39b224ef2a46217ef744b008c",
       "version_major": 2,
       "version_minor": 0
      },
      "text/plain": [
       "NGLWidget()"
      ]
     },
     "metadata": {},
     "output_type": "display_data"
    }
   ],
   "source": [
    "pl.show()"
   ]
  },
  {
   "cell_type": "markdown",
   "id": "f5683202-38a3-4db4-9738-b6bef0d9346b",
   "metadata": {},
   "source": [
    "# Prepare protein-ligand complex using shortcut\n",
    "We prepare the protein ligand complex using the method prepare of the PLComplex class. In this case we want to add hydrogens to the complex."
   ]
  },
  {
   "cell_type": "code",
   "execution_count": 7,
   "id": "a799d37d-e8fb-4def-b2b4-4561df4b3f5d",
   "metadata": {},
   "outputs": [
    {
     "data": {
      "text/plain": [
       "True"
      ]
     },
     "execution_count": 7,
     "metadata": {},
     "output_type": "execute_result"
    }
   ],
   "source": [
    "pl_complex = PLComplex(data.pdb[\"test_with_lig.pdb\"])\n",
    "pl_complex.prepare(\n",
    "    \"EST:B\", smiles=\"C[C@]12CC[C@@H]3c4ccc(cc4CC[C@H]3[C@@H]1CC[C@@H]2O)O\",\n",
    "    add_hydrogens=True)\n",
    "pl_complex.has_hydrogens()"
   ]
  },
  {
   "cell_type": "code",
   "execution_count": 8,
   "id": "2615844d-2467-455a-982e-55224bcd8003",
   "metadata": {},
   "outputs": [
    {
     "data": {
      "image/png": "[encoded data removed]",
      "text/plain": [
       "<rdkit.Chem.rdchem.Mol at 0x7fe90b661e40>"
      ]
     },
     "execution_count": 8,
     "metadata": {},
     "output_type": "execute_result"
    }
   ],
   "source": [
    "pl_complex.ligand"
   ]
  },
  {
   "cell_type": "code",
   "execution_count": 9,
   "id": "171fe5a1-46ee-4db6-b918-cb1333cf6716",
   "metadata": {},
   "outputs": [
    {
     "data": {
      "application/vnd.jupyter.widget-view+json": {
       "model_id": "111cd79960a4483a93164ead469099eb",
       "version_major": 2,
       "version_minor": 0
      },
      "text/plain": [
       "NGLWidget()"
      ]
     },
     "metadata": {},
     "output_type": "display_data"
    }
   ],
   "source": [
    "view = pl_complex.show()\n",
    "view.representations = [\n",
    "    {\n",
    "        \"type\": \"ball+stick\",\n",
    "        \"params\": {\n",
    "            \"sele\": \"all\"\n",
    "        }\n",
    "    }\n",
    "]\n",
    "view"
   ]
  },
  {
   "cell_type": "markdown",
   "id": "db14b6e3-6a90-4a99-99ce-a8edfcd9c49d",
   "metadata": {},
   "source": [
    "# Prepare protein-ligand complex without adding hydrogens\n",
    "We prepare the protein ligand complex using the method prepare of the PLComplex class. In this case we do not want to add hydrogens to the complex."
   ]
  },
  {
   "cell_type": "code",
   "execution_count": 10,
   "id": "84966960-fae6-4e45-a736-e68827ca3ed5",
   "metadata": {},
   "outputs": [
    {
     "data": {
      "text/plain": [
       "False"
      ]
     },
     "execution_count": 10,
     "metadata": {},
     "output_type": "execute_result"
    }
   ],
   "source": [
    "pl_complex = PLComplex(data.pdb[\"test_with_lig.pdb\"])\n",
    "pl_complex.prepare(\n",
    "    \"EST:B\", smiles=\"C[C@]12CC[C@@H]3c4ccc(cc4CC[C@H]3[C@@H]1CC[C@@H]2O)O\",\n",
    "    add_hydrogens=False)\n",
    "pl_complex.has_hydrogens()"
   ]
  },
  {
   "cell_type": "code",
   "execution_count": 11,
   "id": "b21e0aeb-8b68-418d-a528-5b3a6f40ebc5",
   "metadata": {},
   "outputs": [
    {
     "data": {
      "image/png": "[encoded data removed]",
      "text/plain": [
       "<rdkit.Chem.rdchem.Mol at 0x7fe90b6902b0>"
      ]
     },
     "execution_count": 11,
     "metadata": {},
     "output_type": "execute_result"
    }
   ],
   "source": [
    "pl_complex.ligand"
   ]
  },
  {
   "cell_type": "code",
   "execution_count": 12,
   "id": "0f379af4-746c-4a44-ab9e-f43db1d8a389",
   "metadata": {},
   "outputs": [
    {
     "data": {
      "application/vnd.jupyter.widget-view+json": {
       "model_id": "e8e55c046963468abc1cc88ba0302172",
       "version_major": 2,
       "version_minor": 0
      },
      "text/plain": [
       "NGLWidget()"
      ]
     },
     "metadata": {},
     "output_type": "display_data"
    }
   ],
   "source": [
    "view = pl_complex.show()\n",
    "view.representations = [\n",
    "    {\n",
    "        \"type\": \"ball+stick\",\n",
    "        \"params\": {\n",
    "            \"sele\": \"all\"\n",
    "        }\n",
    "    }\n",
    "]\n",
    "view"
   ]
  }
 ],
 "metadata": {
  "kernelspec": {
   "display_name": "Python 3 (ipykernel)",
   "language": "python",
   "name": "python3"
  },
  "language_info": {
   "codemirror_mode": {
    "name": "ipython",
    "version": 3
   },
   "file_extension": ".py",
   "mimetype": "text/x-python",
   "name": "python",
   "nbconvert_exporter": "python",
   "pygments_lexer": "ipython3",
   "version": "3.7.12"
  }
 },
 "nbformat": 4,
 "nbformat_minor": 5
}
