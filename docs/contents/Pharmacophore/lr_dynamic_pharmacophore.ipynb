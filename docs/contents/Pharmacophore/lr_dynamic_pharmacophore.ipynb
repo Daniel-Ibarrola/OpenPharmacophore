{
 "cells": [
  {
   "cell_type": "code",
   "execution_count": 1,
   "id": "e6febb66-6211-4006-918a-f64e7e106dae",
   "metadata": {},
   "outputs": [
    {
     "data": {
      "application/vnd.jupyter.widget-view+json": {
       "model_id": "5663f805e9e74ddfaf8dd1751e19bf7a",
       "version_major": 2,
       "version_minor": 0
      },
      "text/plain": []
     },
     "metadata": {},
     "output_type": "display_data"
    }
   ],
   "source": [
    "import openpharmacophore as oph\n",
    "import openpharmacophore.data as data"
   ]
  },
  {
   "cell_type": "markdown",
   "id": "6a7d387b-fb2a-4b0d-b0a2-bb99d5166593",
   "metadata": {},
   "source": [
    "# Dynamic ligand-receptor pharmacophore\n",
    "\n",
    "We obtain pharmacophores from a md trajectory of er-alpha that consists of three frames"
   ]
  },
  {
   "cell_type": "code",
   "execution_count": 2,
   "id": "00f0ed98-e8bb-48ec-a982-b7d205ed630d",
   "metadata": {},
   "outputs": [
    {
     "name": "stdout",
     "output_type": "stream",
     "text": [
      "[':B']\n"
     ]
    },
    {
     "name": "stderr",
     "output_type": "stream",
     "text": [
      "/home/daniel/miniconda3/envs/molsys/lib/python3.7/site-packages/mdtraj/core/trajectory.py:438: UserWarning: top= kwargs ignored since this file parser does not support it\n",
      "  warnings.warn('top= kwargs ignored since this file parser does not support it')\n"
     ]
    }
   ],
   "source": [
    "pharmacophore = oph.load(data.trajectories[\"eralpha_small.h5\"])\n",
    "lig_ids = pharmacophore.receptor.ligand_ids\n",
    "print(lig_ids)"
   ]
  },
  {
   "cell_type": "markdown",
   "id": "c973af18-c1b2-4991-acb3-6925d85972d3",
   "metadata": {},
   "source": [
    "Note that the trajectory does not contain info of the ligand names, so it's name appears to be empty. But we\n",
    "can still extract the pharmacophore.\n",
    "\n",
    "The receptor already contains hydrogens so we don't need to add any to obtain hydrogen bond acceptor and donor pharmacophoric points"
   ]
  },
  {
   "cell_type": "code",
   "execution_count": 3,
   "id": "3d3300ba-5829-4e0d-95f4-0a2e0fb1ac19",
   "metadata": {},
   "outputs": [
    {
     "data": {
      "text/plain": [
       "True"
      ]
     },
     "execution_count": 3,
     "metadata": {},
     "output_type": "execute_result"
    }
   ],
   "source": [
    "pharmacophore.receptor.has_hydrogens()"
   ]
  },
  {
   "cell_type": "markdown",
   "id": "ef7e49ec-4f51-416a-a0e0-4cf47857b509",
   "metadata": {},
   "source": [
    "We extract the pharmacophore. We need the smiles of the ligand because its name is not present in the trajectory."
   ]
  },
  {
   "cell_type": "code",
   "execution_count": 4,
   "id": "15e6a905-eaee-4f74-b099-15c70da813ed",
   "metadata": {},
   "outputs": [],
   "source": [
    "pharmacophore.extract(lig_ids[0],\n",
    "                      frames=[0, 1, 2],\n",
    "                      add_hydrogens=False,\n",
    "                      smiles=\"C[C@]12CC[C@@H]3c4ccc(cc4CC[C@H]3[C@@H]1CC[C@@H]2O)O\")"
   ]
  },
  {
   "cell_type": "markdown",
   "id": "ef09f407-10ce-46ae-903d-927df66785b6",
   "metadata": {},
   "source": [
    "We inspect the ligand to see that it was correctly extracted."
   ]
  },
  {
   "cell_type": "code",
   "execution_count": 5,
   "id": "54de84ba-1e3b-4570-b371-4b7ede2849ae",
   "metadata": {},
   "outputs": [
    {
     "data": {
      "image/png": "[encoded data removed]",
      "text/plain": [
       "<rdkit.Chem.rdchem.Mol at 0x7efcb84243f0>"
      ]
     },
     "execution_count": 5,
     "metadata": {},
     "output_type": "execute_result"
    }
   ],
   "source": [
    "pharmacophore.receptor.ligand"
   ]
  },
  {
   "cell_type": "markdown",
   "id": "1f8f3cc2-5562-4b10-8383-c36a236e3f7f",
   "metadata": {},
   "source": [
    "We can visualize the different frames of the trajectory"
   ]
  },
  {
   "cell_type": "code",
   "execution_count": 6,
   "id": "b4236b6d-58c8-454f-bd43-2a9bc619cc91",
   "metadata": {},
   "outputs": [
    {
     "data": {
      "application/vnd.jupyter.widget-view+json": {
       "model_id": "dd16d9e1b0f74b45b8259916dd632b09",
       "version_major": 2,
       "version_minor": 0
      },
      "text/plain": [
       "NGLWidget(max_frame=2)"
      ]
     },
     "metadata": {},
     "output_type": "display_data"
    }
   ],
   "source": [
    "frame = 0\n",
    "view = pharmacophore.show(frame=frame, ligand=True, receptor=True)\n",
    "view"
   ]
  },
  {
   "cell_type": "code",
   "execution_count": 9,
   "id": "45bc1cbf-07ee-4fb5-8f6d-5c9262ef7114",
   "metadata": {},
   "outputs": [
    {
     "data": {
      "text/plain": [
       "9796"
      ]
     },
     "execution_count": 9,
     "metadata": {},
     "output_type": "execute_result"
    }
   ],
   "source": [
    "mol = pharmacophore.receptor._mol_graph\n",
    "mol.GetNumAtoms()"
   ]
  },
  {
   "cell_type": "code",
   "execution_count": 10,
   "id": "fb4800b6-c48f-4426-9e8c-b80988d2d778",
   "metadata": {},
   "outputs": [
    {
     "data": {
      "text/plain": [
       "27425"
      ]
     },
     "execution_count": 10,
     "metadata": {},
     "output_type": "execute_result"
    }
   ],
   "source": [
    "topology = pharmacophore.receptor.topology\n",
    "topology.n_atoms"
   ]
  },
  {
   "cell_type": "code",
   "execution_count": 12,
   "id": "cb12faae-b9dc-4257-9841-5ee7e2c1ffd7",
   "metadata": {},
   "outputs": [
    {
     "name": "stdout",
     "output_type": "stream",
     "text": [
      "9796 non hydrogen atoms\n"
     ]
    }
   ],
   "source": [
    "hyd_indices = [a.index for a in topology.atoms if a.element.symbol == \"H\"]\n",
    "non_hyd_indices = [a.index for a in topology.atoms if a.element.symbol != \"H\"]\n",
    "\n",
    "n_non_hyd = topology.n_atoms - len(hyd_indices)\n",
    "print(f\"{n_non_hyd} non hydrogen atoms\")"
   ]
  },
  {
   "cell_type": "code",
   "execution_count": 17,
   "id": "8b64d56e-4c74-4c8f-ab36-547c8b2d8eb5",
   "metadata": {},
   "outputs": [
    {
     "name": "stdout",
     "output_type": "stream",
     "text": [
      "C\n",
      "H\n"
     ]
    }
   ],
   "source": [
    "print(mol.GetAtomWithIdx(1).GetSymbol())\n",
    "print(topology.atom(1).element.symbol)"
   ]
  }
 ],
 "metadata": {
  "kernelspec": {
   "display_name": "Python 3 (ipykernel)",
   "language": "python",
   "name": "python3"
  },
  "language_info": {
   "codemirror_mode": {
    "name": "ipython",
    "version": 3
   },
   "file_extension": ".py",
   "mimetype": "text/x-python",
   "name": "python",
   "nbconvert_exporter": "python",
   "pygments_lexer": "ipython3",
   "version": "3.7.12"
  }
 },
 "nbformat": 4,
 "nbformat_minor": 5
}
