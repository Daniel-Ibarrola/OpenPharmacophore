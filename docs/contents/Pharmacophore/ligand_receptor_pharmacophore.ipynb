{
 "cells": [
  {
   "cell_type": "code",
   "execution_count": 1,
   "id": "37cca21d-9b42-46c0-ac48-6e77963b68ab",
   "metadata": {},
   "outputs": [
    {
     "data": {
      "application/vnd.jupyter.widget-view+json": {
       "model_id": "1cd0f0363357423c9b664f75a480a147",
       "version_major": 2,
       "version_minor": 0
      },
      "text/plain": []
     },
     "metadata": {},
     "output_type": "display_data"
    }
   ],
   "source": [
    "import openpharmacophore as oph\n",
    "import openpharmacophore.data as data\n",
    "\n",
    "import nglview as nv\n",
    "import pyunitwizard as puw"
   ]
  },
  {
   "cell_type": "markdown",
   "id": "57531b71-62c9-4c57-b508-194c3160841b",
   "metadata": {},
   "source": [
    "# Ligand receptor pharmacophore hydrogen bonding points\n",
    "\n",
    "We create a pharmacophore that contains only hydrogen donor and acceptor points"
   ]
  },
  {
   "cell_type": "code",
   "execution_count": 2,
   "id": "13528903-c37a-4096-a854-cb792f1b018d",
   "metadata": {},
   "outputs": [
    {
     "name": "stdout",
     "output_type": "stream",
     "text": [
      "['SFG:B']\n"
     ]
    }
   ],
   "source": [
    "pharmacophore = oph.load(data.pdb[\"3bbh_A_chain.pdb\"])\n",
    "lig_ids = pharmacophore.receptor.ligand_ids\n",
    "print(lig_ids)"
   ]
  },
  {
   "cell_type": "markdown",
   "id": "d95ffb36-5d63-40a0-8212-a050222a32f8",
   "metadata": {},
   "source": [
    "We extract the pharmacophore"
   ]
  },
  {
   "cell_type": "code",
   "execution_count": 3,
   "id": "04366ef6-014e-46ba-8d20-910789e3e0f5",
   "metadata": {},
   "outputs": [
    {
     "name": "stderr",
     "output_type": "stream",
     "text": [
      "Warning: importing 'simtk.openmm' is deprecated.  Import 'openmm' instead.\n"
     ]
    }
   ],
   "source": [
    "pharmacophore.extract(lig_ids[0],\n",
    "                     features=[\"hb donor\", \"hb acceptor\"])"
   ]
  },
  {
   "cell_type": "code",
   "execution_count": 4,
   "id": "faf3e688-fe72-4e23-b5d3-f6467ce755e5",
   "metadata": {},
   "outputs": [
    {
     "data": {
      "image/png": "[encoded data removed]",
      "text/plain": [
       "<rdkit.Chem.rdchem.Mol at 0x7f9a01d4ec10>"
      ]
     },
     "execution_count": 4,
     "metadata": {},
     "output_type": "execute_result"
    }
   ],
   "source": [
    "pharmacophore.receptor.ligand"
   ]
  },
  {
   "cell_type": "code",
   "execution_count": 5,
   "id": "f9575209-21db-4aff-8045-bf2fd41442e2",
   "metadata": {},
   "outputs": [
    {
     "data": {
      "application/vnd.jupyter.widget-view+json": {
       "model_id": "2d9444e1ef084c2aae5e29d2eb314cf0",
       "version_major": 2,
       "version_minor": 0
      },
      "text/plain": [
       "NGLWidget()"
      ]
     },
     "metadata": {},
     "output_type": "display_data"
    }
   ],
   "source": [
    "view = pharmacophore.show(ligand=True, receptor=True)\n",
    "view"
   ]
  },
  {
   "cell_type": "markdown",
   "id": "77bdaaaf-4476-4c11-94f0-11249e0410c3",
   "metadata": {},
   "source": [
    "We create a view of the binding site, so we can the residues that are involved in hydrogen bonding clearly."
   ]
  },
  {
   "cell_type": "code",
   "execution_count": 6,
   "id": "6d41c8f8-b104-46eb-a325-0a25956a2c13",
   "metadata": {},
   "outputs": [
    {
     "data": {
      "application/vnd.jupyter.widget-view+json": {
       "model_id": "9a7e01b4e0cb4c37a43339ebcb51b843",
       "version_major": 2,
       "version_minor": 0
      },
      "text/plain": [
       "NGLWidget()"
      ]
     },
     "metadata": {},
     "output_type": "display_data"
    }
   ],
   "source": [
    "bsite_indices = pharmacophore.receptor.binding_site_indices(0)\n",
    "view = pharmacophore.show(indices=bsite_indices)\n",
    "view"
   ]
  },
  {
   "cell_type": "code",
   "execution_count": 7,
   "id": "50e1acb8-060c-48ae-8293-5bc0f4fa8e89",
   "metadata": {},
   "outputs": [
    {
     "data": {
      "application/vnd.jupyter.widget-view+json": {
       "model_id": "8d63de3aac6648b79cf3cfa45756fc95",
       "version_major": 2,
       "version_minor": 0
      },
      "text/plain": [
       "NGLWidget()"
      ]
     },
     "metadata": {},
     "output_type": "display_data"
    }
   ],
   "source": [
    "pharmacophore.show(receptor=False)"
   ]
  },
  {
   "cell_type": "markdown",
   "id": "293298bd-b3b3-4a36-9555-9c30d0c70b4e",
   "metadata": {},
   "source": [
    "# Ligand receptor pharmacophore hydrophobic points"
   ]
  },
  {
   "cell_type": "code",
   "execution_count": 8,
   "id": "39630b0e-7e2a-4f0b-bea2-fccf089a2076",
   "metadata": {},
   "outputs": [
    {
     "name": "stdout",
     "output_type": "stream",
     "text": [
      "['DAO:B']\n"
     ]
    }
   ],
   "source": [
    "pharmacophore = oph.load(data.pdb[\"1m7w_A_chain.pdb\"])\n",
    "lig_ids = pharmacophore.receptor.ligand_ids\n",
    "print(lig_ids)"
   ]
  },
  {
   "cell_type": "markdown",
   "id": "22d3db83-d600-49de-a45e-4af28f397a0c",
   "metadata": {},
   "source": [
    "We know the smiles of the ligand do we pass it to the extract method so, it can fix the ligand bonds and obtain an accurate pharmacophore"
   ]
  },
  {
   "cell_type": "code",
   "execution_count": 9,
   "id": "84ad571d-c993-43d1-a64b-9fe2de746203",
   "metadata": {},
   "outputs": [],
   "source": [
    "smiles = \"CCCCCCCCCCCC(=O)O\"\n",
    "pharmacophore.extract(lig_ids[0],\n",
    "                      features=[\"hydrophobicity\"],\n",
    "                      smiles=smiles,\n",
    "                      add_hydrogens=False)"
   ]
  },
  {
   "cell_type": "code",
   "execution_count": 10,
   "id": "6627576b-9088-4229-ab0a-d846f79ba4db",
   "metadata": {},
   "outputs": [
    {
     "data": {
      "image/png": "[encoded data removed]",
      "text/plain": [
       "<rdkit.Chem.rdchem.Mol at 0x7f9a01f64970>"
      ]
     },
     "execution_count": 10,
     "metadata": {},
     "output_type": "execute_result"
    }
   ],
   "source": [
    "pharmacophore.receptor.ligand"
   ]
  },
  {
   "cell_type": "code",
   "execution_count": 11,
   "id": "89684221-fc8e-4c42-af34-c8fee88f9bde",
   "metadata": {},
   "outputs": [
    {
     "data": {
      "application/vnd.jupyter.widget-view+json": {
       "model_id": "9f083ccb51ed4f7c80f3b12cb1e9fa49",
       "version_major": 2,
       "version_minor": 0
      },
      "text/plain": [
       "NGLWidget()"
      ]
     },
     "metadata": {},
     "output_type": "display_data"
    }
   ],
   "source": [
    "view = pharmacophore.show(ligand=True, receptor=True)\n",
    "view"
   ]
  },
  {
   "cell_type": "code",
   "execution_count": 12,
   "id": "30baa65c-1e21-47ed-97ca-4e5050cc891e",
   "metadata": {},
   "outputs": [
    {
     "data": {
      "application/vnd.jupyter.widget-view+json": {
       "model_id": "bea847b4c155401587941daabc645d69",
       "version_major": 2,
       "version_minor": 0
      },
      "text/plain": [
       "NGLWidget()"
      ]
     },
     "metadata": {},
     "output_type": "display_data"
    }
   ],
   "source": [
    "bsite_indices = pharmacophore.receptor.binding_site_indices(0)\n",
    "view = pharmacophore.show(indices=bsite_indices)\n",
    "view"
   ]
  },
  {
   "cell_type": "markdown",
   "id": "970e1d50-70f3-484b-9b44-3ed2fd227a4c",
   "metadata": {},
   "source": [
    "# Ligand receptor pharmacophore aromatic points\n",
    "We create a pharmacophore that contains only aromatic points"
   ]
  },
  {
   "cell_type": "code",
   "execution_count": 13,
   "id": "7a872fdf-9b8f-40ce-afb6-1d7e1060f337",
   "metadata": {},
   "outputs": [
    {
     "name": "stdout",
     "output_type": "stream",
     "text": [
      "['ATP:B']\n"
     ]
    }
   ],
   "source": [
    "pharmacophore = oph.load(data.pdb[\"1xdn.pdb\"])\n",
    "lig_ids = pharmacophore.receptor.ligand_ids\n",
    "print(lig_ids)"
   ]
  },
  {
   "cell_type": "code",
   "execution_count": 14,
   "id": "bc15cead-ea2b-4bd5-9c32-a1e8dbce9d5e",
   "metadata": {},
   "outputs": [],
   "source": [
    "pharmacophore.extract(lig_ids[0],\n",
    "                      features=[\"aromatic ring\"],\n",
    "                      add_hydrogens=False)"
   ]
  },
  {
   "cell_type": "code",
   "execution_count": 15,
   "id": "63ace426-df8c-41fb-8df3-184f4a515c4c",
   "metadata": {},
   "outputs": [
    {
     "data": {
      "image/png": "[encoded data removed]",
      "text/plain": [
       "<rdkit.Chem.rdchem.Mol at 0x7f9a0092e2f0>"
      ]
     },
     "execution_count": 15,
     "metadata": {},
     "output_type": "execute_result"
    }
   ],
   "source": [
    "pharmacophore.receptor.ligand"
   ]
  },
  {
   "cell_type": "code",
   "execution_count": 16,
   "id": "a7eb7382-4058-4d6d-b3a3-1abe2caed627",
   "metadata": {},
   "outputs": [
    {
     "data": {
      "application/vnd.jupyter.widget-view+json": {
       "model_id": "cb3b537bff2a45399638c66c3617a7ee",
       "version_major": 2,
       "version_minor": 0
      },
      "text/plain": [
       "NGLWidget()"
      ]
     },
     "metadata": {},
     "output_type": "display_data"
    }
   ],
   "source": [
    "view = pharmacophore.show()\n",
    "view"
   ]
  },
  {
   "cell_type": "code",
   "execution_count": 17,
   "id": "84161d7f-dd5c-49a9-99af-65bc1fb4a83c",
   "metadata": {},
   "outputs": [
    {
     "data": {
      "application/vnd.jupyter.widget-view+json": {
       "model_id": "10c690eeca5a47bb9eb952a06ce918ff",
       "version_major": 2,
       "version_minor": 0
      },
      "text/plain": [
       "NGLWidget()"
      ]
     },
     "metadata": {},
     "output_type": "display_data"
    }
   ],
   "source": [
    "bsite_indices = pharmacophore.receptor.binding_site_indices(0)\n",
    "view = pharmacophore.show(indices=bsite_indices)\n",
    "view"
   ]
  },
  {
   "cell_type": "markdown",
   "id": "6884e5dc-adf4-4891-8b27-0dbe9d211ad0",
   "metadata": {},
   "source": [
    "# Ligand receptor pharmacophore from pdb\n",
    "\n",
    "We want to create a pharmacophore for the protein-ligand complex of estrogen receptor with estradiol."
   ]
  },
  {
   "cell_type": "code",
   "execution_count": 18,
   "id": "436b4287-b5e2-4b67-b8d6-a1e7cac4111b",
   "metadata": {},
   "outputs": [
    {
     "name": "stdout",
     "output_type": "stream",
     "text": [
      "['EST:B']\n"
     ]
    }
   ],
   "source": [
    "pharmacophore = oph.load(data.pdb[\"er_alpha_A_chain.pdb\"])\n",
    "lig_ids = pharmacophore.receptor.ligand_ids\n",
    "print(lig_ids)"
   ]
  },
  {
   "cell_type": "code",
   "execution_count": 19,
   "id": "d5268cc6-6bf3-4f2f-9f8c-c2ee9c252bfe",
   "metadata": {},
   "outputs": [],
   "source": [
    "ligand_id = lig_ids[0]\n",
    "pharmacophore.extract(ligand_id)"
   ]
  },
  {
   "cell_type": "code",
   "execution_count": 20,
   "id": "20c59253-1569-4690-b194-19595a6ac0fb",
   "metadata": {},
   "outputs": [
    {
     "data": {
      "image/png": "[encoded data removed]",
      "text/plain": [
       "<rdkit.Chem.rdchem.Mol at 0x7f9a01f50260>"
      ]
     },
     "execution_count": 20,
     "metadata": {},
     "output_type": "execute_result"
    }
   ],
   "source": [
    "pharmacophore.receptor.ligand"
   ]
  },
  {
   "cell_type": "code",
   "execution_count": 21,
   "id": "e28808a8-aa57-4035-b6f6-8843da5a7736",
   "metadata": {},
   "outputs": [
    {
     "data": {
      "application/vnd.jupyter.widget-view+json": {
       "model_id": "3394476a803b4e269bbcc3ea17ba0602",
       "version_major": 2,
       "version_minor": 0
      },
      "text/plain": [
       "NGLWidget()"
      ]
     },
     "metadata": {},
     "output_type": "display_data"
    }
   ],
   "source": [
    "pharmacophore.show(ligand=True, receptor=True)"
   ]
  },
  {
   "cell_type": "code",
   "execution_count": 22,
   "id": "341b90ea-7466-49cf-9ece-ee8e416cc84c",
   "metadata": {},
   "outputs": [
    {
     "data": {
      "application/vnd.jupyter.widget-view+json": {
       "model_id": "ea91b697dfe2493ca73bb115549a5f26",
       "version_major": 2,
       "version_minor": 0
      },
      "text/plain": [
       "NGLWidget()"
      ]
     },
     "metadata": {},
     "output_type": "display_data"
    }
   ],
   "source": [
    "bsite_indices = pharmacophore.receptor.binding_site_indices(0)\n",
    "pharmacophore.show(indices=bsite_indices)"
   ]
  },
  {
   "cell_type": "code",
   "execution_count": 23,
   "id": "79e580a9-44f8-4e26-9ab4-25b779344a58",
   "metadata": {},
   "outputs": [
    {
     "data": {
      "application/vnd.jupyter.widget-view+json": {
       "model_id": "555f705dcd1d44e4921c717820f22aaf",
       "version_major": 2,
       "version_minor": 0
      },
      "text/plain": [
       "NGLWidget()"
      ]
     },
     "metadata": {},
     "output_type": "display_data"
    }
   ],
   "source": [
    "pharmacophore.show(receptor=False)"
   ]
  }
 ],
 "metadata": {
  "kernelspec": {
   "display_name": "Python 3 (ipykernel)",
   "language": "python",
   "name": "python3"
  },
  "language_info": {
   "codemirror_mode": {
    "name": "ipython",
    "version": 3
   },
   "file_extension": ".py",
   "mimetype": "text/x-python",
   "name": "python",
   "nbconvert_exporter": "python",
   "pygments_lexer": "ipython3",
   "version": "3.7.12"
  }
 },
 "nbformat": 4,
 "nbformat_minor": 5
}
